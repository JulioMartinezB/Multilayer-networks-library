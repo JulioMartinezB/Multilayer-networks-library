{
 "cells": [
  {
   "metadata": {},
   "cell_type": "markdown",
   "source": [
    "# Using NetworkX functions\n",
    "\n",
    "[NetworkX](https://networkx.github.io/) is an excellent tool for network analysis, and there is no need to reinvent the wheel when working on monoplex networks with Pymnet. If you have NetworkX installed, you can use its functions directly with the multilayer-network objects produced by Pymnet.\n",
    "\n",
    "Start by importing the library:"
   ],
   "id": "4770bc9305b5d5db"
  },
  {
   "metadata": {
    "ExecuteTime": {
     "end_time": "2024-07-14T21:14:37.081131Z",
     "start_time": "2024-07-14T21:14:35.177446Z"
    }
   },
   "cell_type": "code",
   "source": "from pymnet import nx",
   "id": "98e6640774c51fcb",
   "outputs": [],
   "execution_count": 1
  },
  {
   "metadata": {},
   "cell_type": "markdown",
   "source": "You can then run any NetworkX function from the pymnet.nx module. For example, you can produce the Karate Club network with the following command.",
   "id": "e7579bf203091df0"
  },
  {
   "metadata": {
    "ExecuteTime": {
     "end_time": "2024-07-14T21:14:37.094864Z",
     "start_time": "2024-07-14T21:14:37.083478Z"
    }
   },
   "cell_type": "code",
   "source": "net = nx.karate_club_graph()",
   "id": "9574c30c74877724",
   "outputs": [],
   "execution_count": 2
  },
  {
   "metadata": {},
   "cell_type": "markdown",
   "source": "This will produce a native Pymnet multilayer network object with 0 aspects (i.e., a monoplex network). To confirm this, try:",
   "id": "cfc9e752cf3f22b9"
  },
  {
   "metadata": {
    "ExecuteTime": {
     "end_time": "2024-07-14T21:16:00.602274Z",
     "start_time": "2024-07-14T21:16:00.597755Z"
    }
   },
   "cell_type": "code",
   "source": "type(net)",
   "id": "bede72d137b192e9",
   "outputs": [
    {
     "data": {
      "text/plain": [
       "pymnet.net.MultilayerNetwork"
      ]
     },
     "execution_count": 9,
     "metadata": {},
     "output_type": "execute_result"
    }
   ],
   "execution_count": 9
  },
  {
   "metadata": {
    "ExecuteTime": {
     "end_time": "2024-07-14T21:14:39.442028Z",
     "start_time": "2024-07-14T21:14:39.437629Z"
    }
   },
   "cell_type": "code",
   "source": "net.aspects",
   "id": "e3f69f087bbf9390",
   "outputs": [
    {
     "data": {
      "text/plain": [
       "0"
      ]
     },
     "execution_count": 4,
     "metadata": {},
     "output_type": "execute_result"
    }
   ],
   "execution_count": 4
  },
  {
   "metadata": {},
   "cell_type": "markdown",
   "source": "For the sake of reproducibility in the next example, let's explicitly seed the random number generator here:",
   "id": "9372b0e498a1eb5c"
  },
  {
   "metadata": {
    "ExecuteTime": {
     "end_time": "2024-07-14T21:14:41.836007Z",
     "start_time": "2024-07-14T21:14:41.832680Z"
    }
   },
   "cell_type": "code",
   "source": [
    "import random\n",
    "random.seed(42)"
   ],
   "id": "e5eaa4016156458c",
   "outputs": [],
   "execution_count": 5
  },
  {
   "metadata": {},
   "cell_type": "markdown",
   "source": "You can also pass Pymnet objects as arguments to NetworkX functions in a similar way. This is handy, for example, when analyzing monoplex structures of intra-layer networks of multiplex networks. For example, producing a multiplex network with three Erdos-Renyi intra-layer networks using Pymnet and calculating the number of connected components in each layer can be done with the following command:",
   "id": "2af171cf20423043"
  },
  {
   "metadata": {
    "ExecuteTime": {
     "end_time": "2024-07-14T21:14:45.328401Z",
     "start_time": "2024-07-14T21:14:45.168653Z"
    }
   },
   "cell_type": "code",
   "source": [
    "import pymnet\n",
    "{name: nx.number_connected_components(layer) for name, layer in pymnet.er(1000, 3*[0.005]).A.items()}"
   ],
   "id": "8c6a4f1cad84ce31",
   "outputs": [
    {
     "data": {
      "text/plain": [
       "{0: 10, 1: 9, 2: 5}"
      ]
     },
     "execution_count": 6,
     "metadata": {},
     "output_type": "execute_result"
    }
   ],
   "execution_count": 6
  }
 ],
 "metadata": {
  "kernelspec": {
   "display_name": "Python 3",
   "language": "python",
   "name": "python3"
  },
  "language_info": {
   "codemirror_mode": {
    "name": "ipython",
    "version": 2
   },
   "file_extension": ".py",
   "mimetype": "text/x-python",
   "name": "python",
   "nbconvert_exporter": "python",
   "pygments_lexer": "ipython2",
   "version": "2.7.6"
  }
 },
 "nbformat": 4,
 "nbformat_minor": 5
}
