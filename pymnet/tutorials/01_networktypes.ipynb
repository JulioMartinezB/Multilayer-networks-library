{
 "cells": [
  {
   "cell_type": "markdown",
   "id": "a5de606afec23e79",
   "metadata": {},
   "source": [
    "# Network types\n",
    "\n",
    "## Monoplex networks\n",
    "\n",
    "Start by importing the library:"
   ]
  },
  {
   "cell_type": "code",
   "id": "c466f562db98e660",
   "metadata": {
    "execution": {
     "iopub.execute_input": "2024-07-14T14:36:04.810480Z",
     "iopub.status.busy": "2024-07-14T14:36:04.810138Z",
     "iopub.status.idle": "2024-07-14T14:36:05.654605Z",
     "shell.execute_reply": "2024-07-14T14:36:05.653831Z"
    },
    "ExecuteTime": {
     "end_time": "2024-07-14T14:37:41.088735Z",
     "start_time": "2024-07-14T14:37:39.039447Z"
    }
   },
   "source": [
    "import pymnet"
   ],
   "outputs": [],
   "execution_count": 1
  },
  {
   "cell_type": "markdown",
   "id": "c29cc8adac543894",
   "metadata": {},
   "source": [
    "`MultilayerNetwork` is the basic network class in the library – all other types of networks are special cases of it. In order to get a monoplex network object, you can simply construct a `MultilayerNetwork` with 0 aspects."
   ]
  },
  {
   "cell_type": "code",
   "id": "755bef796f9e2e12",
   "metadata": {
    "execution": {
     "iopub.execute_input": "2024-07-14T14:36:05.657901Z",
     "iopub.status.busy": "2024-07-14T14:36:05.657583Z",
     "iopub.status.idle": "2024-07-14T14:36:05.660869Z",
     "shell.execute_reply": "2024-07-14T14:36:05.660343Z"
    },
    "ExecuteTime": {
     "end_time": "2024-07-14T14:37:41.095129Z",
     "start_time": "2024-07-14T14:37:41.091112Z"
    }
   },
   "source": [
    "net = pymnet.MultilayerNetwork(aspects=0)"
   ],
   "outputs": [],
   "execution_count": 2
  },
  {
   "cell_type": "markdown",
   "id": "e07876474c47daeb",
   "metadata": {},
   "source": [
    "You can now start adding nodes to the network with the `add_node` method:"
   ]
  },
  {
   "cell_type": "code",
   "id": "9d966d3ba09cb3b2",
   "metadata": {
    "execution": {
     "iopub.execute_input": "2024-07-14T14:36:05.663968Z",
     "iopub.status.busy": "2024-07-14T14:36:05.663747Z",
     "iopub.status.idle": "2024-07-14T14:36:05.666375Z",
     "shell.execute_reply": "2024-07-14T14:36:05.665876Z"
    },
    "ExecuteTime": {
     "end_time": "2024-07-14T14:37:41.099732Z",
     "start_time": "2024-07-14T14:37:41.096724Z"
    }
   },
   "source": [
    "net.add_node(1)\n",
    "net.add_node(2)"
   ],
   "outputs": [],
   "execution_count": 3
  },
  {
   "cell_type": "markdown",
   "id": "6b48ca83eadc798f",
   "metadata": {},
   "source": [
    "Iterating over the network object will yield all the nodes."
   ]
  },
  {
   "cell_type": "code",
   "id": "cd81aec493d4a351",
   "metadata": {
    "execution": {
     "iopub.execute_input": "2024-07-14T14:36:05.668992Z",
     "iopub.status.busy": "2024-07-14T14:36:05.668775Z",
     "iopub.status.idle": "2024-07-14T14:36:05.674222Z",
     "shell.execute_reply": "2024-07-14T14:36:05.673786Z"
    },
    "ExecuteTime": {
     "end_time": "2024-07-14T14:37:41.109164Z",
     "start_time": "2024-07-14T14:37:41.101248Z"
    }
   },
   "source": [
    "list(net)"
   ],
   "outputs": [
    {
     "data": {
      "text/plain": [
       "[1, 2]"
      ]
     },
     "execution_count": 4,
     "metadata": {},
     "output_type": "execute_result"
    }
   ],
   "execution_count": 4
  },
  {
   "cell_type": "markdown",
   "id": "cf6f2161984ff9f",
   "metadata": {},
   "source": [
    "You can access the node objects of the network with the get syntax. The node objects can be used, for example, to get the degree or strength of the node."
   ]
  },
  {
   "cell_type": "code",
   "id": "4ca6fac2341d5db8",
   "metadata": {
    "execution": {
     "iopub.execute_input": "2024-07-14T14:36:05.677072Z",
     "iopub.status.busy": "2024-07-14T14:36:05.676836Z",
     "iopub.status.idle": "2024-07-14T14:36:05.681051Z",
     "shell.execute_reply": "2024-07-14T14:36:05.680491Z"
    },
    "ExecuteTime": {
     "end_time": "2024-07-14T14:37:41.117436Z",
     "start_time": "2024-07-14T14:37:41.112992Z"
    }
   },
   "source": [
    "net[1].deg()"
   ],
   "outputs": [
    {
     "data": {
      "text/plain": [
       "0"
      ]
     },
     "execution_count": 5,
     "metadata": {},
     "output_type": "execute_result"
    }
   ],
   "execution_count": 5
  },
  {
   "cell_type": "markdown",
   "id": "e24c2700bad73dd7",
   "metadata": {},
   "source": [
    "You can now start adding edges to your network. There are two basic ways of doing this. As the first option, you can use syntax which resembles setting elements in an adjacency matrix:"
   ]
  },
  {
   "cell_type": "code",
   "id": "232548632e9f252",
   "metadata": {
    "execution": {
     "iopub.execute_input": "2024-07-14T14:36:05.683771Z",
     "iopub.status.busy": "2024-07-14T14:36:05.683536Z",
     "iopub.status.idle": "2024-07-14T14:36:05.686527Z",
     "shell.execute_reply": "2024-07-14T14:36:05.685942Z"
    },
    "ExecuteTime": {
     "end_time": "2024-07-14T14:37:41.122890Z",
     "start_time": "2024-07-14T14:37:41.119369Z"
    }
   },
   "source": [
    "net[1, 2] = 1"
   ],
   "outputs": [],
   "execution_count": 6
  },
  {
   "cell_type": "markdown",
   "id": "7c7b0a23b3b5284d",
   "metadata": {},
   "source": [
    "As a second option, you can first access a node object and then get the edge pointing to a neighbor of that node:"
   ]
  },
  {
   "cell_type": "code",
   "id": "de396eb9df46f8c9",
   "metadata": {
    "execution": {
     "iopub.execute_input": "2024-07-14T14:36:05.689050Z",
     "iopub.status.busy": "2024-07-14T14:36:05.688826Z",
     "iopub.status.idle": "2024-07-14T14:36:05.691587Z",
     "shell.execute_reply": "2024-07-14T14:36:05.691017Z"
    },
    "ExecuteTime": {
     "end_time": "2024-07-14T14:37:41.128190Z",
     "start_time": "2024-07-14T14:37:41.124727Z"
    }
   },
   "source": [
    "net[1][2] = 1"
   ],
   "outputs": [],
   "execution_count": 7
  },
  {
   "cell_type": "markdown",
   "id": "cdafb200dd0379e9",
   "metadata": {},
   "source": [
    "These two ways are equivalent, but the difference will become important when we move on to networks that are not monoplex anymore. You can also add edges between nodes that you have not explicitly created, and in this case, the missing nodes are created automatically:"
   ]
  },
  {
   "cell_type": "code",
   "id": "972bd83d82bbe36e",
   "metadata": {
    "execution": {
     "iopub.execute_input": "2024-07-14T14:36:05.693953Z",
     "iopub.status.busy": "2024-07-14T14:36:05.693773Z",
     "iopub.status.idle": "2024-07-14T14:36:05.697735Z",
     "shell.execute_reply": "2024-07-14T14:36:05.697248Z"
    },
    "ExecuteTime": {
     "end_time": "2024-07-14T14:37:41.134724Z",
     "start_time": "2024-07-14T14:37:41.130304Z"
    }
   },
   "source": [
    "net[1, 3] = 1\n",
    "list(net)"
   ],
   "outputs": [
    {
     "data": {
      "text/plain": [
       "[1, 2, 3]"
      ]
     },
     "execution_count": 8,
     "metadata": {},
     "output_type": "execute_result"
    }
   ],
   "execution_count": 8
  },
  {
   "cell_type": "markdown",
   "id": "ee913aa5177da2be",
   "metadata": {},
   "source": [
    "You can use similar syntax to check if the edges exist and to access their weights. The default weight value for non-existing edges is 0."
   ]
  },
  {
   "cell_type": "code",
   "id": "34d17193fdd3a71",
   "metadata": {
    "execution": {
     "iopub.execute_input": "2024-07-14T14:36:05.700412Z",
     "iopub.status.busy": "2024-07-14T14:36:05.700163Z",
     "iopub.status.idle": "2024-07-14T14:36:05.703548Z",
     "shell.execute_reply": "2024-07-14T14:36:05.703014Z"
    },
    "ExecuteTime": {
     "end_time": "2024-07-14T14:37:41.140220Z",
     "start_time": "2024-07-14T14:37:41.136167Z"
    }
   },
   "source": [
    "net[1, 2]"
   ],
   "outputs": [
    {
     "data": {
      "text/plain": [
       "1"
      ]
     },
     "execution_count": 9,
     "metadata": {},
     "output_type": "execute_result"
    }
   ],
   "execution_count": 9
  },
  {
   "cell_type": "code",
   "id": "2085f235c697498e",
   "metadata": {
    "execution": {
     "iopub.execute_input": "2024-07-14T14:36:05.706025Z",
     "iopub.status.busy": "2024-07-14T14:36:05.705665Z",
     "iopub.status.idle": "2024-07-14T14:36:05.709038Z",
     "shell.execute_reply": "2024-07-14T14:36:05.708662Z"
    },
    "ExecuteTime": {
     "end_time": "2024-07-14T14:37:41.146020Z",
     "start_time": "2024-07-14T14:37:41.141847Z"
    }
   },
   "source": [
    "net[1][3]"
   ],
   "outputs": [
    {
     "data": {
      "text/plain": [
       "1"
      ]
     },
     "execution_count": 10,
     "metadata": {},
     "output_type": "execute_result"
    }
   ],
   "execution_count": 10
  },
  {
   "cell_type": "code",
   "id": "e596d9acde60aad",
   "metadata": {
    "execution": {
     "iopub.execute_input": "2024-07-14T14:36:05.711411Z",
     "iopub.status.busy": "2024-07-14T14:36:05.711230Z",
     "iopub.status.idle": "2024-07-14T14:36:05.714432Z",
     "shell.execute_reply": "2024-07-14T14:36:05.714037Z"
    },
    "ExecuteTime": {
     "end_time": "2024-07-14T14:37:41.151523Z",
     "start_time": "2024-07-14T14:37:41.147694Z"
    }
   },
   "source": [
    "net[2,3]"
   ],
   "outputs": [
    {
     "data": {
      "text/plain": [
       "0"
      ]
     },
     "execution_count": 11,
     "metadata": {},
     "output_type": "execute_result"
    }
   ],
   "execution_count": 11
  },
  {
   "cell_type": "markdown",
   "id": "42a8da8235822620",
   "metadata": {},
   "source": [
    "The network is undirected by default, which means that adding an edge in one direction automatically adds it in both directions."
   ]
  },
  {
   "cell_type": "code",
   "id": "b53b35465f614fbc",
   "metadata": {
    "execution": {
     "iopub.execute_input": "2024-07-14T14:36:05.716723Z",
     "iopub.status.busy": "2024-07-14T14:36:05.716545Z",
     "iopub.status.idle": "2024-07-14T14:36:05.719694Z",
     "shell.execute_reply": "2024-07-14T14:36:05.719291Z"
    },
    "ExecuteTime": {
     "end_time": "2024-07-14T14:37:41.157440Z",
     "start_time": "2024-07-14T14:37:41.152936Z"
    }
   },
   "source": [
    "net[2, 1]"
   ],
   "outputs": [
    {
     "data": {
      "text/plain": [
       "1"
      ]
     },
     "execution_count": 12,
     "metadata": {},
     "output_type": "execute_result"
    }
   ],
   "execution_count": 12
  },
  {
   "cell_type": "markdown",
   "id": "de5f4cb6a997e183",
   "metadata": {},
   "source": [
    "The node objects can be iterated, which will yield the list of neighbors of the node:"
   ]
  },
  {
   "cell_type": "code",
   "id": "bfa4ed7e80d39b82",
   "metadata": {
    "execution": {
     "iopub.execute_input": "2024-07-14T14:36:05.722344Z",
     "iopub.status.busy": "2024-07-14T14:36:05.722164Z",
     "iopub.status.idle": "2024-07-14T14:36:05.725701Z",
     "shell.execute_reply": "2024-07-14T14:36:05.725222Z"
    },
    "ExecuteTime": {
     "end_time": "2024-07-14T14:37:41.163132Z",
     "start_time": "2024-07-14T14:37:41.159072Z"
    }
   },
   "source": [
    "list(net[1])"
   ],
   "outputs": [
    {
     "data": {
      "text/plain": [
       "[2, 3]"
      ]
     },
     "execution_count": 13,
     "metadata": {},
     "output_type": "execute_result"
    }
   ],
   "execution_count": 13
  },
  {
   "cell_type": "markdown",
   "id": "4f27aa1c7bad5f9f",
   "metadata": {},
   "source": [
    "The edges can be removed by simply setting their value to 0:"
   ]
  },
  {
   "cell_type": "code",
   "id": "ac69aca07b1f1273",
   "metadata": {
    "execution": {
     "iopub.execute_input": "2024-07-14T14:36:05.728061Z",
     "iopub.status.busy": "2024-07-14T14:36:05.727884Z",
     "iopub.status.idle": "2024-07-14T14:36:05.731502Z",
     "shell.execute_reply": "2024-07-14T14:36:05.731088Z"
    },
    "ExecuteTime": {
     "end_time": "2024-07-14T14:37:41.173675Z",
     "start_time": "2024-07-14T14:37:41.169199Z"
    }
   },
   "source": [
    "net[1, 3] = 0\n",
    "list(net[1])"
   ],
   "outputs": [
    {
     "data": {
      "text/plain": [
       "[2]"
      ]
     },
     "execution_count": 14,
     "metadata": {},
     "output_type": "execute_result"
    }
   ],
   "execution_count": 14
  },
  {
   "cell_type": "markdown",
   "id": "eed6bcd532b5c9dc",
   "metadata": {},
   "source": [
    "The edges of the networks can also be weighted with arbitrary numbers (except with the one corresponding to a missing edge). In weighted networks, the degree and the weighted degree, i.e. strength, of a node are different:"
   ]
  },
  {
   "cell_type": "code",
   "id": "4f46812cf13dbbd",
   "metadata": {
    "execution": {
     "iopub.execute_input": "2024-07-14T14:36:05.733846Z",
     "iopub.status.busy": "2024-07-14T14:36:05.733661Z",
     "iopub.status.idle": "2024-07-14T14:36:05.736992Z",
     "shell.execute_reply": "2024-07-14T14:36:05.736582Z"
    },
    "ExecuteTime": {
     "end_time": "2024-07-14T14:37:41.179214Z",
     "start_time": "2024-07-14T14:37:41.175122Z"
    }
   },
   "source": [
    "net[1,3] = 2\n",
    "net[1].deg()"
   ],
   "outputs": [
    {
     "data": {
      "text/plain": [
       "2"
      ]
     },
     "execution_count": 15,
     "metadata": {},
     "output_type": "execute_result"
    }
   ],
   "execution_count": 15
  },
  {
   "cell_type": "code",
   "id": "2c5fb778381f4a40",
   "metadata": {
    "execution": {
     "iopub.execute_input": "2024-07-14T14:36:05.739523Z",
     "iopub.status.busy": "2024-07-14T14:36:05.739301Z",
     "iopub.status.idle": "2024-07-14T14:36:05.742643Z",
     "shell.execute_reply": "2024-07-14T14:36:05.742207Z"
    },
    "ExecuteTime": {
     "end_time": "2024-07-14T14:37:41.185715Z",
     "start_time": "2024-07-14T14:37:41.181253Z"
    }
   },
   "source": [
    "net[1].strength()"
   ],
   "outputs": [
    {
     "data": {
      "text/plain": [
       "3"
      ]
     },
     "execution_count": 16,
     "metadata": {},
     "output_type": "execute_result"
    }
   ],
   "execution_count": 16
  },
  {
   "cell_type": "markdown",
   "id": "1e34387adb7f703b",
   "metadata": {},
   "source": [
    "By default, all network objects are undirected. Directed network objects can be created by setting the keyword parameter directed to True in the constructor of the network object:"
   ]
  },
  {
   "cell_type": "code",
   "id": "1741a7c451cc65a8",
   "metadata": {
    "execution": {
     "iopub.execute_input": "2024-07-14T14:36:05.745058Z",
     "iopub.status.busy": "2024-07-14T14:36:05.744872Z",
     "iopub.status.idle": "2024-07-14T14:36:05.748162Z",
     "shell.execute_reply": "2024-07-14T14:36:05.747724Z"
    },
    "ExecuteTime": {
     "end_time": "2024-07-14T14:37:41.192220Z",
     "start_time": "2024-07-14T14:37:41.187701Z"
    }
   },
   "source": [
    "dirnet = pymnet.MultilayerNetwork(aspects=0, directed=True)\n",
    "dirnet[1, 2] = 1\n",
    "dirnet[1, 2]"
   ],
   "outputs": [
    {
     "data": {
      "text/plain": [
       "1"
      ]
     },
     "execution_count": 17,
     "metadata": {},
     "output_type": "execute_result"
    }
   ],
   "execution_count": 17
  },
  {
   "cell_type": "code",
   "id": "f06588c3d7607fcd",
   "metadata": {
    "execution": {
     "iopub.execute_input": "2024-07-14T14:36:05.750506Z",
     "iopub.status.busy": "2024-07-14T14:36:05.750323Z",
     "iopub.status.idle": "2024-07-14T14:36:05.753525Z",
     "shell.execute_reply": "2024-07-14T14:36:05.753019Z"
    },
    "ExecuteTime": {
     "end_time": "2024-07-14T14:37:41.198788Z",
     "start_time": "2024-07-14T14:37:41.194086Z"
    }
   },
   "source": [
    "dirnet[2, 1]"
   ],
   "outputs": [
    {
     "data": {
      "text/plain": [
       "0"
      ]
     },
     "execution_count": 18,
     "metadata": {},
     "output_type": "execute_result"
    }
   ],
   "execution_count": 18
  },
  {
   "cell_type": "code",
   "id": "bff5054a982b8427",
   "metadata": {
    "execution": {
     "iopub.execute_input": "2024-07-14T14:36:05.755965Z",
     "iopub.status.busy": "2024-07-14T14:36:05.755742Z",
     "iopub.status.idle": "2024-07-14T14:36:05.758850Z",
     "shell.execute_reply": "2024-07-14T14:36:05.758451Z"
    },
    "ExecuteTime": {
     "end_time": "2024-07-14T14:37:41.205125Z",
     "start_time": "2024-07-14T14:37:41.200420Z"
    }
   },
   "source": [
    "net[2, 1]"
   ],
   "outputs": [
    {
     "data": {
      "text/plain": [
       "1"
      ]
     },
     "execution_count": 19,
     "metadata": {},
     "output_type": "execute_result"
    }
   ],
   "execution_count": 19
  },
  {
   "cell_type": "markdown",
   "id": "31a3c9f6feff3cef",
   "metadata": {},
   "source": [
    "## Multilayer networks\n",
    "\n",
    "We are now ready to move to more general multilayer networks with an arbitrary number of aspects. For simplicity, we will start with a network that has a single aspect."
   ]
  },
  {
   "cell_type": "code",
   "id": "5ab59cf58f90def8",
   "metadata": {
    "execution": {
     "iopub.execute_input": "2024-07-14T14:36:05.761146Z",
     "iopub.status.busy": "2024-07-14T14:36:05.760961Z",
     "iopub.status.idle": "2024-07-14T14:36:05.763779Z",
     "shell.execute_reply": "2024-07-14T14:36:05.763277Z"
    },
    "ExecuteTime": {
     "end_time": "2024-07-14T14:37:41.210043Z",
     "start_time": "2024-07-14T14:37:41.207181Z"
    }
   },
   "source": [
    "mnet = pymnet.MultilayerNetwork(aspects=1)"
   ],
   "outputs": [],
   "execution_count": 20
  },
  {
   "cell_type": "markdown",
   "id": "aa96ff2ae0cf0785",
   "metadata": {},
   "source": [
    "Networks of this type are similar to the monoplex ones, but now you have layers in addition to nodes. You can add new layers with the `add_layer` method:"
   ]
  },
  {
   "cell_type": "code",
   "id": "674f68fe73e7b298",
   "metadata": {
    "execution": {
     "iopub.execute_input": "2024-07-14T14:36:05.766293Z",
     "iopub.status.busy": "2024-07-14T14:36:05.766039Z",
     "iopub.status.idle": "2024-07-14T14:36:05.768706Z",
     "shell.execute_reply": "2024-07-14T14:36:05.768257Z"
    },
    "ExecuteTime": {
     "end_time": "2024-07-14T14:37:41.215380Z",
     "start_time": "2024-07-14T14:37:41.211718Z"
    }
   },
   "source": [
    "mnet.add_node(1)\n",
    "mnet.add_layer(\"a\")"
   ],
   "outputs": [],
   "execution_count": 21
  },
  {
   "cell_type": "markdown",
   "id": "244eb771193bec4",
   "metadata": {},
   "source": [
    "Now, the node objects of the network need to be accessed by giving both the node and the layer:"
   ]
  },
  {
   "cell_type": "code",
   "id": "d94e66c161a2eddc",
   "metadata": {
    "execution": {
     "iopub.execute_input": "2024-07-14T14:36:05.771065Z",
     "iopub.status.busy": "2024-07-14T14:36:05.770890Z",
     "iopub.status.idle": "2024-07-14T14:36:05.774168Z",
     "shell.execute_reply": "2024-07-14T14:36:05.773759Z"
    },
    "ExecuteTime": {
     "end_time": "2024-07-14T14:37:41.221293Z",
     "start_time": "2024-07-14T14:37:41.217174Z"
    }
   },
   "source": [
    "mnet[1, \"a\"].deg()"
   ],
   "outputs": [
    {
     "data": {
      "text/plain": [
       "0"
      ]
     },
     "execution_count": 22,
     "metadata": {},
     "output_type": "execute_result"
    }
   ],
   "execution_count": 22
  },
  {
   "cell_type": "markdown",
   "id": "480dd644ea02a09f",
   "metadata": {},
   "source": [
    "Again, the edges can be accessed in two ways. The first one is similar to the tensor notation, where the indices of nodes and layers are grouped together. The following command will add an edge between node 1 in layer “a” and node 2 in layer “b” (again, the nodes and layers are implicitly created):"
   ]
  },
  {
   "cell_type": "code",
   "id": "b8172faef3d53eab",
   "metadata": {
    "execution": {
     "iopub.execute_input": "2024-07-14T14:36:05.776673Z",
     "iopub.status.busy": "2024-07-14T14:36:05.776484Z",
     "iopub.status.idle": "2024-07-14T14:36:05.779079Z",
     "shell.execute_reply": "2024-07-14T14:36:05.778544Z"
    },
    "ExecuteTime": {
     "end_time": "2024-07-14T14:37:41.225992Z",
     "start_time": "2024-07-14T14:37:41.222889Z"
    }
   },
   "source": [
    "mnet[1, 2, \"a\", \"b\"] = 1"
   ],
   "outputs": [],
   "execution_count": 23
  },
  {
   "cell_type": "markdown",
   "id": "ad493759939c173a",
   "metadata": {},
   "source": [
    "In the syntax where you first access a node object and then its neighbor, the order of the indices is different. In this syntax, the following command is equivalent to the one shown above:"
   ]
  },
  {
   "cell_type": "code",
   "id": "2abc1be6a2dfe371",
   "metadata": {
    "execution": {
     "iopub.execute_input": "2024-07-14T14:36:05.781434Z",
     "iopub.status.busy": "2024-07-14T14:36:05.781249Z",
     "iopub.status.idle": "2024-07-14T14:36:05.784003Z",
     "shell.execute_reply": "2024-07-14T14:36:05.783496Z"
    },
    "ExecuteTime": {
     "end_time": "2024-07-14T14:37:41.230736Z",
     "start_time": "2024-07-14T14:37:41.227611Z"
    }
   },
   "source": [
    "mnet[1, \"a\"][2, \"b\"] = 1"
   ],
   "outputs": [],
   "execution_count": 24
  },
  {
   "cell_type": "markdown",
   "id": "5dc9ab6a2a660f94",
   "metadata": {},
   "source": [
    "You can again iterate over a node object, but this time, tuples with both node and layer are returned. Note that iterating over the network still returns only the nodes."
   ]
  },
  {
   "cell_type": "code",
   "id": "a2d1383d354501",
   "metadata": {
    "execution": {
     "iopub.execute_input": "2024-07-14T14:36:05.786927Z",
     "iopub.status.busy": "2024-07-14T14:36:05.786704Z",
     "iopub.status.idle": "2024-07-14T14:36:05.790291Z",
     "shell.execute_reply": "2024-07-14T14:36:05.789911Z"
    },
    "ExecuteTime": {
     "end_time": "2024-07-14T14:37:41.237366Z",
     "start_time": "2024-07-14T14:37:41.232279Z"
    }
   },
   "source": [
    "list(mnet[1, \"a\"])"
   ],
   "outputs": [
    {
     "data": {
      "text/plain": [
       "[(2, 'b')]"
      ]
     },
     "execution_count": 25,
     "metadata": {},
     "output_type": "execute_result"
    }
   ],
   "execution_count": 25
  },
  {
   "cell_type": "code",
   "id": "617e82c7da12fb5d",
   "metadata": {
    "execution": {
     "iopub.execute_input": "2024-07-14T14:36:05.792606Z",
     "iopub.status.busy": "2024-07-14T14:36:05.792418Z",
     "iopub.status.idle": "2024-07-14T14:36:05.795764Z",
     "shell.execute_reply": "2024-07-14T14:36:05.795364Z"
    },
    "ExecuteTime": {
     "end_time": "2024-07-14T14:37:41.243066Z",
     "start_time": "2024-07-14T14:37:41.238708Z"
    }
   },
   "source": [
    "list(mnet)"
   ],
   "outputs": [
    {
     "data": {
      "text/plain": [
       "[1, 2]"
      ]
     },
     "execution_count": 26,
     "metadata": {},
     "output_type": "execute_result"
    }
   ],
   "execution_count": 26
  },
  {
   "cell_type": "markdown",
   "id": "4452bc42135a13ab",
   "metadata": {},
   "source": [
    "You can create networks with arbitrary number of aspects. The syntax for this type of networks is straight forward extension of the one described above."
   ]
  },
  {
   "cell_type": "code",
   "id": "4c421d22fd4fb7dd",
   "metadata": {
    "execution": {
     "iopub.execute_input": "2024-07-14T14:36:05.798389Z",
     "iopub.status.busy": "2024-07-14T14:36:05.798207Z",
     "iopub.status.idle": "2024-07-14T14:36:05.802009Z",
     "shell.execute_reply": "2024-07-14T14:36:05.801540Z"
    },
    "ExecuteTime": {
     "end_time": "2024-07-14T14:37:41.250011Z",
     "start_time": "2024-07-14T14:37:41.244831Z"
    }
   },
   "source": [
    "mnet2 = pymnet.MultilayerNetwork(aspects=2)\n",
    "mnet2[1, 2, \"a\" ,\"b\", \"x\" ,\"y\"] = 1\n",
    "mnet2[1, \"a\", \"x\"][2, \"b\", \"y\"]"
   ],
   "outputs": [
    {
     "data": {
      "text/plain": [
       "1"
      ]
     },
     "execution_count": 27,
     "metadata": {},
     "output_type": "execute_result"
    }
   ],
   "execution_count": 27
  },
  {
   "cell_type": "markdown",
   "id": "3bdd249c50a78e3e",
   "metadata": {},
   "source": [
    "Sometimes new syntax is needed. For example, the aspect must be specified when adding layers."
   ]
  },
  {
   "cell_type": "code",
   "id": "cd6787da9169138c",
   "metadata": {
    "execution": {
     "iopub.execute_input": "2024-07-14T14:36:05.804598Z",
     "iopub.status.busy": "2024-07-14T14:36:05.804404Z",
     "iopub.status.idle": "2024-07-14T14:36:05.807239Z",
     "shell.execute_reply": "2024-07-14T14:36:05.806619Z"
    },
    "ExecuteTime": {
     "end_time": "2024-07-14T14:37:41.254732Z",
     "start_time": "2024-07-14T14:37:41.251860Z"
    }
   },
   "source": [
    "mnet2.add_layer(\"c\", 1)\n",
    "mnet2.add_layer(\"z\", 2)"
   ],
   "outputs": [],
   "execution_count": 28
  },
  {
   "cell_type": "markdown",
   "id": "e6be031b9a6cec1c",
   "metadata": {},
   "source": [
    "## Multiplex networks\n",
    "\n",
    "The multilayer networks can in theory be used to represent multiplex networks, but in practice, it is often better to use a specialized class `MultiplexNetwork` when dealing with multiplex networks. There are several reasons for this. First, the `MultiplexNetwork` class offers an additional convenient interface for handling intra-layer networks. Second, the `MultiplexNetwork` class can take coupling rules as an input when it is constructed and use them to implicitly create the inter-layer edges when they are needed. This saves some memory and makes it easier to create networks with such coupling structures. Third, using a `MultiplexNetwork` will let the functions in the library know that your multilayer network is a multiplex network. Some of the functions only work for multiplex networks, but even the ones that work for general multilayer networks can use the information to speed up the processing.\n",
    "\n",
    "The simplest multiplex network is the one with no coupling edges. You would create such an object with the following command:\n",
    "\n",
    "`MultiplexNetwork`"
   ]
  },
  {
   "cell_type": "code",
   "id": "6c3bbe5d727d1c8b",
   "metadata": {
    "execution": {
     "iopub.execute_input": "2024-07-14T14:36:05.809692Z",
     "iopub.status.busy": "2024-07-14T14:36:05.809509Z",
     "iopub.status.idle": "2024-07-14T14:36:05.812181Z",
     "shell.execute_reply": "2024-07-14T14:36:05.811632Z"
    },
    "ExecuteTime": {
     "end_time": "2024-07-14T14:37:41.259424Z",
     "start_time": "2024-07-14T14:37:41.256541Z"
    }
   },
   "source": [
    "mplex = pymnet.MultiplexNetwork(couplings=\"none\")"
   ],
   "outputs": [],
   "execution_count": 29
  },
  {
   "cell_type": "markdown",
   "id": "9c87f6a8ca0b60ba",
   "metadata": {},
   "source": [
    "The nodes and edges can be accessed and added as usual:"
   ]
  },
  {
   "cell_type": "code",
   "id": "a2924f13a97c9dc5",
   "metadata": {
    "execution": {
     "iopub.execute_input": "2024-07-14T14:36:05.814896Z",
     "iopub.status.busy": "2024-07-14T14:36:05.814711Z",
     "iopub.status.idle": "2024-07-14T14:36:05.817409Z",
     "shell.execute_reply": "2024-07-14T14:36:05.817000Z"
    },
    "ExecuteTime": {
     "end_time": "2024-07-14T14:37:41.264232Z",
     "start_time": "2024-07-14T14:37:41.261146Z"
    }
   },
   "source": [
    "mplex[1, \"a\"][2, \"a\"] = 1"
   ],
   "outputs": [],
   "execution_count": 30
  },
  {
   "cell_type": "markdown",
   "id": "ab495fdcfa1997",
   "metadata": {},
   "source": [
    "The difference to the `MultilayerNetwork` object (in addition to not being able to add cross-layer links) is that you can now access the intra-layer networks as follows:"
   ]
  },
  {
   "cell_type": "code",
   "id": "151e68dc7fd6cb98",
   "metadata": {
    "execution": {
     "iopub.execute_input": "2024-07-14T14:36:05.819932Z",
     "iopub.status.busy": "2024-07-14T14:36:05.819741Z",
     "iopub.status.idle": "2024-07-14T14:36:05.823191Z",
     "shell.execute_reply": "2024-07-14T14:36:05.822582Z"
    },
    "ExecuteTime": {
     "end_time": "2024-07-14T14:37:41.270082Z",
     "start_time": "2024-07-14T14:37:41.265893Z"
    }
   },
   "source": [
    "mplex.A[\"a\"][1, 2]"
   ],
   "outputs": [
    {
     "data": {
      "text/plain": [
       "1"
      ]
     },
     "execution_count": 31,
     "metadata": {},
     "output_type": "execute_result"
    }
   ],
   "execution_count": 31
  },
  {
   "cell_type": "code",
   "id": "e0fa278672233397",
   "metadata": {
    "execution": {
     "iopub.execute_input": "2024-07-14T14:36:05.825684Z",
     "iopub.status.busy": "2024-07-14T14:36:05.825499Z",
     "iopub.status.idle": "2024-07-14T14:36:05.828096Z",
     "shell.execute_reply": "2024-07-14T14:36:05.827581Z"
    },
    "ExecuteTime": {
     "end_time": "2024-07-14T14:37:41.274331Z",
     "start_time": "2024-07-14T14:37:41.271714Z"
    }
   },
   "source": [
    "mplex.A[\"a\"][1, 3] = 1"
   ],
   "outputs": [],
   "execution_count": 32
  },
  {
   "cell_type": "markdown",
   "id": "5a11af7da8012109",
   "metadata": {},
   "source": [
    "You can construct `MultiplexNetwork` objects with given coupling rules and have categorical or ordinal multiplex networks, where the inter-layer edges are filled in automatically. In categorical networks, all the diagonal inter-layer edges are present."
   ]
  },
  {
   "cell_type": "code",
   "id": "c66713a306a7c05b",
   "metadata": {
    "execution": {
     "iopub.execute_input": "2024-07-14T14:36:05.830835Z",
     "iopub.status.busy": "2024-07-14T14:36:05.830623Z",
     "iopub.status.idle": "2024-07-14T14:36:05.834847Z",
     "shell.execute_reply": "2024-07-14T14:36:05.834377Z"
    },
    "ExecuteTime": {
     "end_time": "2024-07-14T14:37:41.280516Z",
     "start_time": "2024-07-14T14:37:41.275689Z"
    }
   },
   "source": [
    "cnet = pymnet.MultiplexNetwork(couplings=\"categorical\")\n",
    "cnet.add_node(1)\n",
    "cnet.add_layer(\"a\")\n",
    "cnet.add_layer(\"b\")\n",
    "cnet[1, 1, \"a\", \"b\"]"
   ],
   "outputs": [
    {
     "data": {
      "text/plain": [
       "1.0"
      ]
     },
     "execution_count": 33,
     "metadata": {},
     "output_type": "execute_result"
    }
   ],
   "execution_count": 33
  },
  {
   "cell_type": "markdown",
   "id": "2d9363b0c79a79b0",
   "metadata": {},
   "source": [
    "In ordinal networks, only adjacent layers are connected to each other. In a `MultiplexNetwork` object, the layers of ordinal aspects must be integers."
   ]
  },
  {
   "cell_type": "code",
   "id": "9ec19d30b2ed5559",
   "metadata": {
    "execution": {
     "iopub.execute_input": "2024-07-14T14:36:05.837351Z",
     "iopub.status.busy": "2024-07-14T14:36:05.837160Z",
     "iopub.status.idle": "2024-07-14T14:36:05.841199Z",
     "shell.execute_reply": "2024-07-14T14:36:05.840731Z"
    },
    "ExecuteTime": {
     "end_time": "2024-07-14T14:37:41.286484Z",
     "start_time": "2024-07-14T14:37:41.282020Z"
    }
   },
   "source": [
    "onet = pymnet.MultiplexNetwork(couplings=\"ordinal\")\n",
    "onet.add_node(\"node\")\n",
    "onet.add_layer(1)\n",
    "onet.add_layer(2)\n",
    "onet.add_layer(3)\n",
    "onet[\"node\", \"node\", 1, 2]"
   ],
   "outputs": [
    {
     "data": {
      "text/plain": [
       "1.0"
      ]
     },
     "execution_count": 34,
     "metadata": {},
     "output_type": "execute_result"
    }
   ],
   "execution_count": 34
  },
  {
   "cell_type": "code",
   "id": "db9a7265fc411cd3",
   "metadata": {
    "execution": {
     "iopub.execute_input": "2024-07-14T14:36:05.843600Z",
     "iopub.status.busy": "2024-07-14T14:36:05.843402Z",
     "iopub.status.idle": "2024-07-14T14:36:05.846744Z",
     "shell.execute_reply": "2024-07-14T14:36:05.846233Z"
    },
    "ExecuteTime": {
     "end_time": "2024-07-14T14:37:41.291606Z",
     "start_time": "2024-07-14T14:37:41.287779Z"
    }
   },
   "source": [
    "onet[\"node\", \"node\", 1, 3]"
   ],
   "outputs": [
    {
     "data": {
      "text/plain": [
       "0"
      ]
     },
     "execution_count": 35,
     "metadata": {},
     "output_type": "execute_result"
    }
   ],
   "execution_count": 35
  },
  {
   "cell_type": "markdown",
   "id": "a723d72061b491da",
   "metadata": {},
   "source": [
    "You can also give the coupling strength, i.e. the weight of the inter-layer edges, as a parameter:"
   ]
  },
  {
   "cell_type": "code",
   "id": "7e3fdb7f89c5352",
   "metadata": {
    "execution": {
     "iopub.execute_input": "2024-07-14T14:36:05.849498Z",
     "iopub.status.busy": "2024-07-14T14:36:05.849280Z",
     "iopub.status.idle": "2024-07-14T14:36:05.853534Z",
     "shell.execute_reply": "2024-07-14T14:36:05.852790Z"
    },
    "ExecuteTime": {
     "end_time": "2024-07-14T14:37:41.297290Z",
     "start_time": "2024-07-14T14:37:41.293047Z"
    }
   },
   "source": [
    "cnet = pymnet.MultiplexNetwork(couplings=(\"categorical\", 10))\n",
    "cnet.add_node(1)\n",
    "cnet.add_layer(\"a\")\n",
    "cnet.add_layer(\"b\")\n",
    "cnet[1, 1, \"a\", \"b\"]"
   ],
   "outputs": [
    {
     "data": {
      "text/plain": [
       "10"
      ]
     },
     "execution_count": 36,
     "metadata": {},
     "output_type": "execute_result"
    }
   ],
   "execution_count": 36
  },
  {
   "cell_type": "markdown",
   "id": "fc28a09e00b6b552",
   "metadata": {},
   "source": [
    "Multiplex networks with multiple aspects can be constructed by passing a list of coupling rules as the coupling parameter in the constructor. For example, the following code constructs a multiplex network where the first aspect is categorical and the second is ordinal."
   ]
  },
  {
   "cell_type": "code",
   "id": "14cb18017bc6736f",
   "metadata": {
    "execution": {
     "iopub.execute_input": "2024-07-14T14:36:05.855995Z",
     "iopub.status.busy": "2024-07-14T14:36:05.855810Z",
     "iopub.status.idle": "2024-07-14T14:36:05.860308Z",
     "shell.execute_reply": "2024-07-14T14:36:05.859868Z"
    },
    "ExecuteTime": {
     "end_time": "2024-07-14T14:37:41.303481Z",
     "start_time": "2024-07-14T14:37:41.298492Z"
    }
   },
   "source": [
    "conet = pymnet.MultiplexNetwork(couplings=[\"categorical\", \"ordinal\"])\n",
    "conet.add_node(\"node\")\n",
    "conet.add_layer(\"a\", 1)\n",
    "conet.add_layer(\"b\", 1)\n",
    "conet.add_layer(1, 2)\n",
    "conet.add_layer(2, 2)\n",
    "conet.add_layer(3, 2)\n",
    "conet[\"node\", \"node\", \"a\", \"a\", 1, 2]"
   ],
   "outputs": [
    {
     "data": {
      "text/plain": [
       "1.0"
      ]
     },
     "execution_count": 37,
     "metadata": {},
     "output_type": "execute_result"
    }
   ],
   "execution_count": 37
  },
  {
   "cell_type": "markdown",
   "id": "d433d40c0a1a830e",
   "metadata": {},
   "source": [
    "In this case, the intra-layer network must be accessed by giving a combination of layers."
   ]
  },
  {
   "cell_type": "code",
   "id": "3c8b1a14e025a62",
   "metadata": {
    "execution": {
     "iopub.execute_input": "2024-07-14T14:36:05.862796Z",
     "iopub.status.busy": "2024-07-14T14:36:05.862608Z",
     "iopub.status.idle": "2024-07-14T14:36:05.865529Z",
     "shell.execute_reply": "2024-07-14T14:36:05.864998Z"
    },
    "ExecuteTime": {
     "end_time": "2024-07-14T14:37:41.307692Z",
     "start_time": "2024-07-14T14:37:41.304680Z"
    }
   },
   "source": [
    "conet.A[(\"a\", 1)][\"node\", \"node2\"] = 1"
   ],
   "outputs": [],
   "execution_count": 38
  }
 ],
 "metadata": {
  "kernelspec": {
   "display_name": "Python 3",
   "language": "python",
   "name": "python3"
  },
  "language_info": {
   "codemirror_mode": {
    "name": "ipython",
    "version": 3
   },
   "file_extension": ".py",
   "mimetype": "text/x-python",
   "name": "python",
   "nbconvert_exporter": "python",
   "pygments_lexer": "ipython3",
   "version": "3.10.10"
  }
 },
 "nbformat": 4,
 "nbformat_minor": 5
}
